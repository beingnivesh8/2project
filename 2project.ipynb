{
 "cells": [
  {
   "cell_type": "markdown",
   "metadata": {},
   "source": [
    "# Phonepe Pulse Data Visualization and Extraction"
   ]
  },
  {
   "cell_type": "code",
   "execution_count": null,
   "metadata": {},
   "outputs": [
    {
     "ename": "",
     "evalue": "",
     "output_type": "error",
     "traceback": [
      "\u001b[1;31mFailed to start the Kernel. \n",
      "\u001b[1;31mUnable to start Kernel 'Python 3.12.2' due to a timeout waiting for the ports to get used. \n",
      "\u001b[1;31mView Jupyter <a href='command:jupyter.viewOutput'>log</a> for further details."
     ]
    }
   ],
   "source": [
    "#Essential Libraries:\n",
    "\n",
    "import git\n",
    "import pandas as pd\n",
    "import json\n",
    "import os\n",
    "import mysql.connector\n",
    "from sqlalchemy import create_engine\n",
    "import requests\n",
    "import plotly.express as px"
   ]
  },
  {
   "cell_type": "code",
   "execution_count": null,
   "metadata": {},
   "outputs": [
    {
     "ename": "",
     "evalue": "",
     "output_type": "error",
     "traceback": [
      "\u001b[1;31mFailed to start the Kernel. \n",
      "\u001b[1;31mUnable to start Kernel 'Python 3.12.2' due to a timeout waiting for the ports to get used. \n",
      "\u001b[1;31mView Jupyter <a href='command:jupyter.viewOutput'>log</a> for further details."
     ]
    }
   ],
   "source": [
    "#MYSQL_Localhost_Connection:\n",
    "\n",
    "mydb = mysql.connector.connect(host=\"localhost\",user=\"root\",password=\"\")\n",
    "\n",
    "mycursor = mydb.cursor(buffered=True)"
   ]
  },
  {
   "cell_type": "code",
   "execution_count": null,
   "metadata": {},
   "outputs": [
    {
     "ename": "",
     "evalue": "",
     "output_type": "error",
     "traceback": [
      "\u001b[1;31mFailed to start the Kernel. \n",
      "\u001b[1;31mUnable to start Kernel 'Python 3.12.2' due to a timeout waiting for the ports to get used. \n",
      "\u001b[1;31mView Jupyter <a href='command:jupyter.viewOutput'>log</a> for further details."
     ]
    }
   ],
   "source": [
    "#Cloning dataset from githup\n",
    "\n",
    "try:\n",
    "    repository_url = \"https://github.com/PhonePe/pulse.git\"\n",
    "    #destination_directory = \"C:\\Users\\N.P.Nivesh\\Desktop\\Python\\Project\\.ipynb files\\2) PhonePe Pulse Data Visulization and Exploration\"\n",
    "    destination_directory = \"Phonepe\"\n",
    "    git.Repo.clone_from(repository_url, destination_directory)\n",
    "except:\n",
    "    print(\"already exists\")"
   ]
  },
  {
   "cell_type": "markdown",
   "metadata": {},
   "source": [
    "# Aggregated_Transaction"
   ]
  },
  {
   "cell_type": "code",
   "execution_count": null,
   "metadata": {},
   "outputs": [
    {
     "ename": "",
     "evalue": "",
     "output_type": "error",
     "traceback": [
      "\u001b[1;31mFailed to start the Kernel. \n",
      "\u001b[1;31mUnable to start Kernel 'Python 3.12.2' due to a timeout waiting for the ports to get used. \n",
      "\u001b[1;31mView Jupyter <a href='command:jupyter.viewOutput'>log</a> for further details."
     ]
    }
   ],
   "source": [
    "#aggre_transaction\n",
    "\n",
    "path1= r'c:\\Users\\N.P.Nivesh\\Desktop\\Python\\Project\\.ipynb files\\2) PhonePe Pulse Data Visulization and Exploration; AUser - Friendly Tool Using Streamlit and Plotly\\Phonepe/data/data/aggregated/transaction/country/india/state/'\n",
    "Agg_tran_list=os.listdir(path1)\n",
    "\n",
    "column1={'States':[], 'Years':[],'Quarter':[],'Transaction_type':[], 'Transaction_count':[], 'Transaction_amount':[]}\n",
    "\n",
    "for state in Agg_tran_list:\n",
    "    p_i=path1+state+\"/\"\n",
    "    Agg_yr=os.listdir(p_i)\n",
    "\n",
    "    for year in Agg_yr:\n",
    "        p_j=p_i+year+\"/\"\n",
    "        Agg_yr_list=os.listdir(p_j)\n",
    "\n",
    "        for file in Agg_yr_list:\n",
    "            p_k=p_j+file\n",
    "            Data=open(p_k,'r')\n",
    "            B=json.load(Data)\n",
    "\n",
    "            for i in B['data']['transactionData']:\n",
    "                Name=i['name']\n",
    "                count=i['paymentInstruments'][0]['count']\n",
    "                amount=i['paymentInstruments'][0]['amount']\n",
    "                \n",
    "                column1['Transaction_type'].append(Name)\n",
    "                column1['Transaction_count'].append(count)\n",
    "                column1['Transaction_amount'].append(amount)\n",
    "                column1['States'].append(state)\n",
    "                column1['Years'].append(year)\n",
    "                column1['Quarter'].append(int(file.strip('.json')))\n",
    "\n",
    "Aggre_transaction=pd.DataFrame(column1)\n"
   ]
  },
  {
   "cell_type": "code",
   "execution_count": null,
   "metadata": {},
   "outputs": [
    {
     "ename": "",
     "evalue": "",
     "output_type": "error",
     "traceback": [
      "\u001b[1;31mFailed to start the Kernel. \n",
      "\u001b[1;31mUnable to start Kernel 'Python 3.12.2' due to a timeout waiting for the ports to get used. \n",
      "\u001b[1;31mView Jupyter <a href='command:jupyter.viewOutput'>log</a> for further details."
     ]
    }
   ],
   "source": [
    "Aggre_transaction[\"States\"] = Aggre_transaction[\"States\"].str.replace(\"andaman-&-nicobar-islands\",\"Andaman & Nicobar\")\n",
    "Aggre_transaction[\"States\"] = Aggre_transaction[\"States\"].str.replace(\"-\",\" \")\n",
    "Aggre_transaction[\"States\"] = Aggre_transaction[\"States\"].str.title()\n",
    "Aggre_transaction['States'] = Aggre_transaction['States'].str.replace(\"Dadra & Nagar Haveli & Daman & Diu\", \"Dadra and Nagar Haveli and Daman and Diu\")\n"
   ]
  },
  {
   "cell_type": "markdown",
   "metadata": {},
   "source": [
    "# Aggregated_User"
   ]
  },
  {
   "cell_type": "code",
   "execution_count": null,
   "metadata": {},
   "outputs": [
    {
     "ename": "",
     "evalue": "",
     "output_type": "error",
     "traceback": [
      "\u001b[1;31mFailed to start the Kernel. \n",
      "\u001b[1;31mUnable to start Kernel 'Python 3.12.2' due to a timeout waiting for the ports to get used. \n",
      "\u001b[1;31mView Jupyter <a href='command:jupyter.viewOutput'>log</a> for further details."
     ]
    }
   ],
   "source": [
    "#aggre_user\n",
    "\n",
    "path2=r'c:\\Users\\N.P.Nivesh\\Desktop\\Python\\Project\\.ipynb files\\2) PhonePe Pulse Data Visulization and Exploration; AUser - Friendly Tool Using Streamlit and Plotly\\Phonepe/data/data/aggregated/user/country/india/state/'\n",
    "Agg_user_list = os.listdir(path2)\n",
    "\n",
    "\n",
    "column2={'States':[], 'Years':[],'Quarter':[],'Brands':[], 'Transaction_count':[],'Percentage':[]}\n",
    "\n",
    "for state in Agg_user_list:\n",
    "    p_i = path2+state+\"/\"\n",
    "    Agg_yr = os.listdir(p_i)\n",
    "    \n",
    "    for year in Agg_yr:\n",
    "        p_j = p_i+year+\"/\"\n",
    "        Agg_yr_list = os.listdir(p_j)\n",
    "        \n",
    "        for file in Agg_yr_list:\n",
    "            p_k = p_j+file\n",
    "            data = open(p_k,\"r\")\n",
    "            C = json.load(data)\n",
    "\n",
    "            try:\n",
    "\n",
    "                for i in C[\"data\"][\"usersByDevice\"]:\n",
    "                    brand = i[\"brand\"]\n",
    "                    count = i[\"count\"]\n",
    "                    percentage = i[\"percentage\"]\n",
    "                    \n",
    "                    column2[\"Brands\"].append(brand)\n",
    "                    column2[\"Transaction_count\"].append(count)\n",
    "                    column2[\"Percentage\"].append(percentage)\n",
    "                    column2[\"States\"].append(state)\n",
    "                    column2[\"Years\"].append(year)\n",
    "                    column2[\"Quarter\"].append(int(file.strip(\".json\")))\n",
    "            \n",
    "            except:\n",
    "                pass\n",
    "\n",
    "Aggre_user = pd.DataFrame(column2)\n"
   ]
  },
  {
   "cell_type": "code",
   "execution_count": null,
   "metadata": {},
   "outputs": [
    {
     "ename": "",
     "evalue": "",
     "output_type": "error",
     "traceback": [
      "\u001b[1;31mFailed to start the Kernel. \n",
      "\u001b[1;31mUnable to start Kernel 'Python 3.12.2' due to a timeout waiting for the ports to get used. \n",
      "\u001b[1;31mView Jupyter <a href='command:jupyter.viewOutput'>log</a> for further details."
     ]
    }
   ],
   "source": [
    "Aggre_user[\"States\"] = Aggre_user[\"States\"].str.replace(\"andaman-&-nicobar-islands\",\"Andaman & Nicobar\")\n",
    "Aggre_user[\"States\"] = Aggre_user[\"States\"].str.replace(\"-\",\" \")\n",
    "Aggre_user[\"States\"] = Aggre_user[\"States\"].str.title()\n",
    "Aggre_user['States'] = Aggre_user['States'].str.replace(\"Dadra & Nagar Haveli & Daman & Diu\", \"Dadra and Nagar Haveli and Daman and Diu\")\n"
   ]
  },
  {
   "cell_type": "markdown",
   "metadata": {},
   "source": [
    "# Map_Transaction"
   ]
  },
  {
   "cell_type": "code",
   "execution_count": null,
   "metadata": {},
   "outputs": [
    {
     "ename": "",
     "evalue": "",
     "output_type": "error",
     "traceback": [
      "\u001b[1;31mFailed to start the Kernel. \n",
      "\u001b[1;31mUnable to start Kernel 'Python 3.12.2' due to a timeout waiting for the ports to get used. \n",
      "\u001b[1;31mView Jupyter <a href='command:jupyter.viewOutput'>log</a> for further details."
     ]
    }
   ],
   "source": [
    "#map_transaction\n",
    "\n",
    "path3=r'c:\\Users\\N.P.Nivesh\\Desktop\\Python\\Project\\.ipynb files\\2) PhonePe Pulse Data Visulization and Exploration; AUser - Friendly Tool Using Streamlit and Plotly\\Phonepe/data/data/map/transaction/hover/country/india/state/'\n",
    "map_tran_list = os.listdir(path3)\n",
    "\n",
    "\n",
    "column3={'States':[],'Years':[],'Quarter':[],'District':[], 'Transaction_count':[],'Transaction_amount':[]}\n",
    "\n",
    "for state in map_tran_list:\n",
    "    p_i=path3+state+\"/\"\n",
    "    map_yr=os.listdir(p_i)\n",
    "\n",
    "    for year in map_yr:\n",
    "        p_j=p_i+year+\"/\"\n",
    "        map_yr_list=os.listdir(p_j)\n",
    "        \n",
    "        for file in map_yr_list:\n",
    "            p_k=p_j+file\n",
    "            Data=open(p_k,'r')\n",
    "            E=json.load(Data)\n",
    "            \n",
    "            for i in E['data']['hoverDataList']:\n",
    "                name=i[\"name\"]\n",
    "                count=i[\"metric\"][0][\"count\"]\n",
    "                percentage=i[\"metric\"][0][\"amount\"]\n",
    "                \n",
    "                column3['District'].append(name)\n",
    "                column3['Transaction_count'].append(count)\n",
    "                column3['Transaction_amount'].append(amount)\n",
    "                column3['States'].append(state)\n",
    "                column3['Years'].append(year)\n",
    "                column3['Quarter'].append(int(file.strip('.json')))\n",
    "\n",
    "Map_transaction = pd.DataFrame(column3)"
   ]
  },
  {
   "cell_type": "code",
   "execution_count": null,
   "metadata": {},
   "outputs": [
    {
     "ename": "",
     "evalue": "",
     "output_type": "error",
     "traceback": [
      "\u001b[1;31mFailed to start the Kernel. \n",
      "\u001b[1;31mUnable to start Kernel 'Python 3.12.2' due to a timeout waiting for the ports to get used. \n",
      "\u001b[1;31mView Jupyter <a href='command:jupyter.viewOutput'>log</a> for further details."
     ]
    }
   ],
   "source": [
    "Map_transaction[\"States\"] = Map_transaction[\"States\"].str.replace(\"andaman-&-nicobar-islands\",\"Andaman & Nicobar\")\n",
    "Map_transaction[\"States\"] = Map_transaction[\"States\"].str.replace(\"-\",\" \")\n",
    "Map_transaction[\"States\"] = Map_transaction[\"States\"].str.title()\n",
    "Map_transaction['States'] = Map_transaction['States'].str.replace(\"Dadra & Nagar Haveli & Daman & Diu\", \"Dadra and Nagar Haveli and Daman and Diu\")\n"
   ]
  },
  {
   "cell_type": "markdown",
   "metadata": {},
   "source": [
    "# Map_User"
   ]
  },
  {
   "cell_type": "code",
   "execution_count": null,
   "metadata": {},
   "outputs": [
    {
     "ename": "",
     "evalue": "",
     "output_type": "error",
     "traceback": [
      "\u001b[1;31mFailed to start the Kernel. \n",
      "\u001b[1;31mUnable to start Kernel 'Python 3.12.2' due to a timeout waiting for the ports to get used. \n",
      "\u001b[1;31mView Jupyter <a href='command:jupyter.viewOutput'>log</a> for further details."
     ]
    }
   ],
   "source": [
    "#Map_users\n",
    "\n",
    "path4 = r'c:\\Users\\N.P.Nivesh\\Desktop\\Python\\Project\\.ipynb files\\2) PhonePe Pulse Data Visulization and Exploration; AUser - Friendly Tool Using Streamlit and Plotly\\Phonepe/data/data/map/user/hover/country/india/state/'\n",
    "map_user_list = os.listdir(path4)\n",
    "\n",
    "column4 = {\"States\":[], \"Years\":[], \"Quarter\":[], \"Districts\":[], \"RegisteredUser\":[], \"AppOpens\":[]}\n",
    "\n",
    "for state in map_user_list:\n",
    "    p_i= path4+state+\"/\"\n",
    "    map_year_list = os.listdir(p_i)\n",
    "    \n",
    "    for year in map_year_list:\n",
    "        p_j = p_i+year+\"/\"\n",
    "        map_file_list = os.listdir(p_j)\n",
    "        \n",
    "        for file in map_file_list:\n",
    "            p_k = p_j+file\n",
    "            data = open(p_k,\"r\")\n",
    "            F = json.load(data)\n",
    "\n",
    "            for i in F[\"data\"][\"hoverData\"].items():\n",
    "                district = i[0]\n",
    "                registereduser = i[1][\"registeredUsers\"]\n",
    "                appopens = i[1][\"appOpens\"]\n",
    "                \n",
    "                column4[\"Districts\"].append(district)\n",
    "                column4[\"RegisteredUser\"].append(registereduser)\n",
    "                column4[\"AppOpens\"].append(appopens)\n",
    "                column4[\"States\"].append(state)\n",
    "                column4[\"Years\"].append(year)\n",
    "                column4[\"Quarter\"].append(int(file.strip(\".json\")))\n",
    "\n",
    "Map_user = pd.DataFrame(column4)\n"
   ]
  },
  {
   "cell_type": "code",
   "execution_count": null,
   "metadata": {},
   "outputs": [
    {
     "ename": "",
     "evalue": "",
     "output_type": "error",
     "traceback": [
      "\u001b[1;31mFailed to start the Kernel. \n",
      "\u001b[1;31mUnable to start Kernel 'Python 3.12.2' due to a timeout waiting for the ports to get used. \n",
      "\u001b[1;31mView Jupyter <a href='command:jupyter.viewOutput'>log</a> for further details."
     ]
    }
   ],
   "source": [
    "Map_user[\"States\"] = Map_user[\"States\"].str.replace(\"andaman-&-nicobar-islands\",\"Andaman & Nicobar\")\n",
    "Map_user[\"States\"] = Map_user[\"States\"].str.replace(\"-\",\" \")\n",
    "Map_user[\"States\"] = Map_user[\"States\"].str.title()\n",
    "Map_user['States'] = Map_user['States'].str.replace(\"Dadra & Nagar Haveli & Daman & Diu\", \"Dadra and Nagar Haveli and Daman and Diu\")\n"
   ]
  },
  {
   "cell_type": "markdown",
   "metadata": {},
   "source": [
    "# Top_Transaction"
   ]
  },
  {
   "cell_type": "code",
   "execution_count": null,
   "metadata": {},
   "outputs": [
    {
     "ename": "",
     "evalue": "",
     "output_type": "error",
     "traceback": [
      "\u001b[1;31mFailed to start the Kernel. \n",
      "\u001b[1;31mUnable to start Kernel 'Python 3.12.2' due to a timeout waiting for the ports to get used. \n",
      "\u001b[1;31mView Jupyter <a href='command:jupyter.viewOutput'>log</a> for further details."
     ]
    }
   ],
   "source": [
    "#Top_transaction\n",
    "\n",
    "path5 = r'c:\\Users\\N.P.Nivesh\\Desktop\\Python\\Project\\.ipynb files\\2) PhonePe Pulse Data Visulization and Exploration; AUser - Friendly Tool Using Streamlit and Plotly\\Phonepe/data/data/top/transaction/country/india/state/'\n",
    "top_tran_list = os.listdir(path5)\n",
    "\n",
    "column5= {\"States\":[], \"Years\":[], \"Quarter\":[], \"Pincodes\":[], \"Transaction_count\":[], \"Transaction_amount\":[]}\n",
    "\n",
    "for state in top_tran_list:\n",
    "    p_i = path5+state+\"/\"\n",
    "    top_year_list = os.listdir(p_i)\n",
    "    \n",
    "    for year in top_year_list:\n",
    "        p_j = p_i+year+\"/\"\n",
    "        top_file_list = os.listdir(p_j)\n",
    "        \n",
    "        for file in top_file_list:\n",
    "            p_k = p_j+file\n",
    "            data = open(p_k,\"r\")\n",
    "            H = json.load(data)\n",
    "\n",
    "            for i in H[\"data\"][\"pincodes\"]:\n",
    "                entityName = i[\"entityName\"]\n",
    "                count = i[\"metric\"][\"count\"]\n",
    "                amount = i[\"metric\"][\"amount\"]\n",
    "\n",
    "                column5[\"Pincodes\"].append(entityName)\n",
    "                column5[\"Transaction_count\"].append(count)\n",
    "                column5[\"Transaction_amount\"].append(amount)\n",
    "                column5[\"States\"].append(state)\n",
    "                column5[\"Years\"].append(year)\n",
    "                column5[\"Quarter\"].append(int(file.strip(\".json\")))\n",
    "\n",
    "Top_transaction = pd.DataFrame(column5)"
   ]
  },
  {
   "cell_type": "code",
   "execution_count": null,
   "metadata": {},
   "outputs": [
    {
     "ename": "",
     "evalue": "",
     "output_type": "error",
     "traceback": [
      "\u001b[1;31mFailed to start the Kernel. \n",
      "\u001b[1;31mUnable to start Kernel 'Python 3.12.2' due to a timeout waiting for the ports to get used. \n",
      "\u001b[1;31mView Jupyter <a href='command:jupyter.viewOutput'>log</a> for further details."
     ]
    }
   ],
   "source": [
    "\n",
    "Top_transaction[\"States\"] = Top_transaction[\"States\"].str.replace(\"andaman-&-nicobar-islands\",\"Andaman & Nicobar\")\n",
    "Top_transaction[\"States\"] = Top_transaction[\"States\"].str.replace(\"-\",\" \")\n",
    "Top_transaction[\"States\"] = Top_transaction[\"States\"].str.title()\n",
    "Top_transaction['States'] = Top_transaction['States'].str.replace(\"Dadra & Nagar Haveli & Daman & Diu\", \"Dadra and Nagar Haveli and Daman and Diu\")\n",
    "Top_transaction['States'].unique()"
   ]
  },
  {
   "cell_type": "markdown",
   "metadata": {},
   "source": [
    "# Top_User"
   ]
  },
  {
   "cell_type": "code",
   "execution_count": null,
   "metadata": {},
   "outputs": [
    {
     "ename": "",
     "evalue": "",
     "output_type": "error",
     "traceback": [
      "\u001b[1;31mFailed to start the Kernel. \n",
      "\u001b[1;31mUnable to start Kernel 'Python 3.12.2' due to a timeout waiting for the ports to get used. \n",
      "\u001b[1;31mView Jupyter <a href='command:jupyter.viewOutput'>log</a> for further details."
     ]
    }
   ],
   "source": [
    "#Top_user\n",
    "\n",
    "path6 =r'c:\\Users\\N.P.Nivesh\\Desktop\\Python\\Project\\.ipynb files\\2) PhonePe Pulse Data Visulization and Exploration; AUser - Friendly Tool Using Streamlit and Plotly\\Phonepe/data/data/top/user/country/india/state/'\n",
    "top_user_list = os.listdir(path6)\n",
    "\n",
    "column6 = {\"States\":[], \"Years\":[], \"Quarter\":[], \"Pincodes\":[], \"RegisteredUsers\":[]}\n",
    "\n",
    "for state in top_user_list:\n",
    "    p_i = path6+state+\"/\"\n",
    "    top_year_list = os.listdir(p_i)\n",
    "\n",
    "    for year in top_year_list:\n",
    "        p_j = p_i+year+\"/\"\n",
    "        top_file_list = os.listdir(p_j )\n",
    "\n",
    "        for file in top_file_list:\n",
    "            p_k = p_j +file\n",
    "            data = open(p_k ,\"r\")\n",
    "            I = json.load(data)\n",
    "\n",
    "            for i in I[\"data\"][\"pincodes\"]:\n",
    "                name = i[\"name\"]\n",
    "                registeredusers = i[\"registeredUsers\"]\n",
    "                column6[\"Pincodes\"].append(name)\n",
    "                column6[\"RegisteredUsers\"].append(registeredusers)\n",
    "                column6[\"States\"].append(state)\n",
    "                column6[\"Years\"].append(year)\n",
    "                column6[\"Quarter\"].append(int(file.strip(\".json\")))\n",
    "\n",
    "Top_user = pd.DataFrame(column6)"
   ]
  },
  {
   "cell_type": "code",
   "execution_count": null,
   "metadata": {},
   "outputs": [
    {
     "ename": "",
     "evalue": "",
     "output_type": "error",
     "traceback": [
      "\u001b[1;31mFailed to start the Kernel. \n",
      "\u001b[1;31mUnable to start Kernel 'Python 3.12.2' due to a timeout waiting for the ports to get used. \n",
      "\u001b[1;31mView Jupyter <a href='command:jupyter.viewOutput'>log</a> for further details."
     ]
    }
   ],
   "source": [
    "Top_user[\"States\"] = Top_user[\"States\"].str.replace(\"andaman-&-nicobar-islands\",\"Andaman & Nicobar\")\n",
    "Top_user[\"States\"] = Top_user[\"States\"].str.replace(\"-\",\" \")\n",
    "Top_user[\"States\"] = Top_user[\"States\"].str.title()\n",
    "Top_user['States'] = Top_user['States'].str.replace(\"Dadra & Nagar Haveli & Daman & Diu\", \"Dadra and Nagar Haveli and Daman and Diu\")\n",
    "Top_user['States'].unique()"
   ]
  },
  {
   "cell_type": "markdown",
   "metadata": {},
   "source": [
    "# MYSQL_Localhost_Connection"
   ]
  },
  {
   "cell_type": "code",
   "execution_count": null,
   "metadata": {},
   "outputs": [
    {
     "ename": "",
     "evalue": "",
     "output_type": "error",
     "traceback": [
      "\u001b[1;31mFailed to start the Kernel. \n",
      "\u001b[1;31mUnable to start Kernel 'Python 3.12.2' due to a timeout waiting for the ports to get used. \n",
      "\u001b[1;31mView Jupyter <a href='command:jupyter.viewOutput'>log</a> for further details."
     ]
    }
   ],
   "source": [
    "mydb = mysql.connector.connect(host=\"localhost\",user=\"root\",password=\"\")\n",
    "\n",
    "mycursor = mydb.cursor(buffered=True)"
   ]
  },
  {
   "cell_type": "markdown",
   "metadata": {},
   "source": [
    "MYSQL_Database_Creation"
   ]
  },
  {
   "cell_type": "code",
   "execution_count": null,
   "metadata": {},
   "outputs": [
    {
     "ename": "",
     "evalue": "",
     "output_type": "error",
     "traceback": [
      "\u001b[1;31mFailed to start the Kernel. \n",
      "\u001b[1;31mUnable to start Kernel 'Python 3.12.2' due to a timeout waiting for the ports to get used. \n",
      "\u001b[1;31mView Jupyter <a href='command:jupyter.viewOutput'>log</a> for further details."
     ]
    }
   ],
   "source": [
    "#MYSQL_Database_Creation:\n",
    "\n",
    "mydb = mysql.connector.connect(host=\"localhost\",user=\"root\",password=\"\")\n",
    "\n",
    "mycursor = mydb.cursor(buffered=True)\n",
    "\n",
    "db_connection_str = f\"mysql+mysqlconnector://root@localhost/Phonepe_Project\"\n",
    "db_engine = create_engine(db_connection_str)\n",
    "mycursor.execute('create database if not exists Phonepe_Project')\n",
    "mycursor.execute('use Phonepe_Project')"
   ]
  },
  {
   "cell_type": "markdown",
   "metadata": {},
   "source": [
    "create a database and table (Aggregate trasaction)"
   ]
  },
  {
   "cell_type": "code",
   "execution_count": null,
   "metadata": {},
   "outputs": [
    {
     "ename": "",
     "evalue": "",
     "output_type": "error",
     "traceback": [
      "\u001b[1;31mFailed to start the Kernel. \n",
      "\u001b[1;31mUnable to start Kernel 'Python 3.12.2' due to a timeout waiting for the ports to get used. \n",
      "\u001b[1;31mView Jupyter <a href='command:jupyter.viewOutput'>log</a> for further details."
     ]
    }
   ],
   "source": [
    "# create a database and table (Aggregate trasaction)\n",
    "\n",
    "\n",
    "mycursor.execute('USE Phonepe_Project')\n",
    "mycursor.execute('''create table if not exists Aggregated_transaction (State VARCHAR(255),\n",
    "                    Year INT(10),\n",
    "                    Quarter INT(10),\n",
    "                    Transaction_type VARCHAR(255),\n",
    "                    Transaction_count INT(10),\n",
    "                    Transaction_amount FLOAT(50))''')\n",
    "\n",
    "for index,row in Aggre_transaction.iterrows():\n",
    "    mycursor.execute('''Insert into Aggregated_transaction (State,Year,Quarter,Transaction_type,Transaction_count,Transaction_amount)\n",
    "                    VALUES(%s,%s,%s,%s,%s,%s)''',\n",
    "                    (row['States'],\n",
    "                    row['Years'],\n",
    "                    row['Quarter'],\n",
    "                    row['Transaction_type'],\n",
    "                    row['Transaction_count'],\n",
    "                    row['Transaction_amount']))\n",
    "    \n",
    "mydb.commit()\n",
    "\n",
    "#Agge transaction\n",
    "\n",
    "mycursor.execute('USE Phonepe_Project')\n",
    "mycursor.execute(\"select * from Aggregated_transaction\")\n",
    "mydb.commit()\n",
    "table1 = mycursor.fetchall()\n",
    "\n",
    "Aggre_trans = pd.DataFrame(table1, columns=('States',\n",
    "                                            'Years', \n",
    "                                            'Quarter',\n",
    "                                            'Transaction_type',\n",
    "                                            'Transaction_count',\n",
    "                                            'Transaction_amount'))\n",
    "\n",
    "Aggre_trans"
   ]
  },
  {
   "cell_type": "markdown",
   "metadata": {},
   "source": [
    "create a database and table (Aggregate user)"
   ]
  },
  {
   "cell_type": "code",
   "execution_count": null,
   "metadata": {},
   "outputs": [
    {
     "ename": "",
     "evalue": "",
     "output_type": "error",
     "traceback": [
      "\u001b[1;31mFailed to start the Kernel. \n",
      "\u001b[1;31mUnable to start Kernel 'Python 3.12.2' due to a timeout waiting for the ports to get used. \n",
      "\u001b[1;31mView Jupyter <a href='command:jupyter.viewOutput'>log</a> for further details."
     ]
    }
   ],
   "source": [
    "# create a database and table (Aggregate user)\n",
    "\n",
    "mycursor.execute('USE Phonepe_Project')\n",
    "mycursor.execute('''create table if not exists Aggregate_user(States VARCHAR(255),\n",
    "                    Years INT(10),\n",
    "                    Quarter INT(10),\n",
    "                    Brands VARCHAR(255),\n",
    "                    Transaction_count INT(10),\n",
    "                    Percentage FLOAT(50))''')\n",
    "mydb.commit()\n",
    "for index,row in Aggre_user.iterrows():\n",
    "    mycursor.execute('''Insert into Aggregate_user(States,Years,Quarter,Brands,Transaction_count,Percentage)\n",
    "                    VALUES(%s,%s,%s,%s,%s,%s)''',\n",
    "                    (row['States'],\n",
    "                    row['Years'],\n",
    "                    row['Quarter'],\n",
    "                    row['Brands'],\n",
    "                    row['Transaction_count'],\n",
    "                    row['Percentage']))\n",
    "    \n",
    "mydb.commit()\n",
    "\n",
    "#Agge user df\n",
    "\n",
    "mycursor.execute(\"select * from Aggregate_user\")\n",
    "mydb.commit()\n",
    "table2 = mycursor.fetchall()\n",
    "\n",
    "Aggre_user = pd.DataFrame(table2, columns=('States',\n",
    "                                            'Years', \n",
    "                                            'Quarter',\n",
    "                                            'Brands',\n",
    "                                            'Transaction_count', \n",
    "                                            'Percentage'))\n",
    "Aggre_user"
   ]
  },
  {
   "cell_type": "markdown",
   "metadata": {},
   "source": [
    "create a database and table (Map trasaction)"
   ]
  },
  {
   "cell_type": "code",
   "execution_count": null,
   "metadata": {},
   "outputs": [
    {
     "ename": "",
     "evalue": "",
     "output_type": "error",
     "traceback": [
      "\u001b[1;31mFailed to start the Kernel. \n",
      "\u001b[1;31mUnable to start Kernel 'Python 3.12.2' due to a timeout waiting for the ports to get used. \n",
      "\u001b[1;31mView Jupyter <a href='command:jupyter.viewOutput'>log</a> for further details."
     ]
    }
   ],
   "source": [
    "# create a database and table (Map trasaction)\n",
    "\n",
    "mycursor.execute('USE Phonepe_Project')\n",
    "mycursor.execute('''create table if not exists Map_transaction(States VARCHAR(255),\n",
    "                    Years INT(10),\n",
    "                    Quarter INT(10),\n",
    "                    District VARCHAR(255),\n",
    "                    Transaction_count INT(10),\n",
    "                    Transaction_amount FLOAT(50))''')\n",
    "\n",
    "for index,row in Map_transaction.iterrows():\n",
    "    mycursor.execute('''Insert into Map_transaction(States,Years,Quarter,District,Transaction_count,Transaction_amount)\n",
    "                    VALUES(%s,%s,%s,%s,%s,%s)''',\n",
    "                    (row['States'],\n",
    "                    row['Years'],\n",
    "                    row['Quarter'],\n",
    "                    row['District'],\n",
    "                    row['Transaction_count'],\n",
    "                    row['Transaction_amount']))\n",
    "    \n",
    "mydb.commit()\n",
    "\n",
    "#map transation\n",
    "\n",
    "mycursor.execute(\"select * from Map_transaction\")\n",
    "mydb.commit()\n",
    "table3 = mycursor.fetchall()\n",
    "\n",
    "map_trans = pd.DataFrame(table3, columns=('States',\n",
    "                                            'Years',\n",
    "                                            'Quarter',\n",
    "                                            'Districts',\n",
    "                                            'Transaction_count',\n",
    "                                            'Transaction_amount'))\n",
    "map_trans"
   ]
  },
  {
   "cell_type": "markdown",
   "metadata": {},
   "source": [
    "create a database and table (Map user)"
   ]
  },
  {
   "cell_type": "code",
   "execution_count": null,
   "metadata": {},
   "outputs": [
    {
     "ename": "",
     "evalue": "",
     "output_type": "error",
     "traceback": [
      "\u001b[1;31mFailed to start the Kernel. \n",
      "\u001b[1;31mUnable to start Kernel 'Python 3.12.2' due to a timeout waiting for the ports to get used. \n",
      "\u001b[1;31mView Jupyter <a href='command:jupyter.viewOutput'>log</a> for further details."
     ]
    }
   ],
   "source": [
    "# create a database and table (Map user)\n",
    "\n",
    "mycursor.execute('USE Phonepe_Project')\n",
    "mycursor.execute('''create table if not exists Map_user(States VARCHAR(255),\n",
    "                    Years INT(10),\n",
    "                    Quarter INT(10),\n",
    "                    Districts VARCHAR(255),\n",
    "                    RegisteredUser INT(10),\n",
    "                    AppOpens FLOAT(50))''')\n",
    "\n",
    "for index,row in Map_user.iterrows():\n",
    "    mycursor.execute('''Insert into Map_user(States,Years,Quarter,Districts,RegisteredUser,AppOpens)\n",
    "                    VALUES(%s,%s,%s,%s,%s,%s)''',\n",
    "                    (row['States'],\n",
    "                    row['Years'],\n",
    "                    row['Quarter'],\n",
    "                    row['Districts'],\n",
    "                    row['RegisteredUser'],\n",
    "                    row['AppOpens']))\n",
    "    \n",
    "mydb.commit()\n",
    "\n",
    "#map user df\n",
    "\n",
    "mycursor.execute(\"select * from Map_user\")\n",
    "mydb.commit()\n",
    "table4 = mycursor.fetchall()\n",
    "\n",
    "map_user = pd.DataFrame(table4, columns=('States',\n",
    "                                        'Years', \n",
    "                                        'Quarter',\n",
    "                                        'Districts',\n",
    "                                        'RegisteredUsers', \n",
    "                                        'AppOpens'))\n",
    "map_user"
   ]
  },
  {
   "cell_type": "markdown",
   "metadata": {},
   "source": [
    "create a database and table (Top trasaction)"
   ]
  },
  {
   "cell_type": "code",
   "execution_count": null,
   "metadata": {},
   "outputs": [
    {
     "ename": "",
     "evalue": "",
     "output_type": "error",
     "traceback": [
      "\u001b[1;31mFailed to start the Kernel. \n",
      "\u001b[1;31mUnable to start Kernel 'Python 3.12.2' due to a timeout waiting for the ports to get used. \n",
      "\u001b[1;31mView Jupyter <a href='command:jupyter.viewOutput'>log</a> for further details."
     ]
    }
   ],
   "source": [
    "# create a database and table (Top trasaction)\n",
    "\n",
    "mycursor.execute('USE Phonepe_Project')\n",
    "mycursor.execute('''create table if not exists Top_transaction(States VARCHAR(255),\n",
    "                    Years INT(10),\n",
    "                    Quarter INT(10),\n",
    "                    Pincodes INT(10),\n",
    "                    Transaction_count INT(50),\n",
    "                    Transaction_amount INT(50))''')\n",
    "\n",
    "mydb.commit()\n",
    "for index,row in Top_transaction.iterrows():\n",
    "    mycursor.execute('''Insert into Top_transaction(States,Years,Quarter,Pincodes,Transaction_count,Transaction_amount)\n",
    "                    VALUES(%s,%s,%s,%s,%s,%s)''',\n",
    "                    (row['States'],\n",
    "                    row['Years'],\n",
    "                    row['Quarter'],\n",
    "                    row['Pincodes'],\n",
    "                    row['Transaction_count'],\n",
    "                    row['Transaction_amount']))\n",
    "    \n",
    "mydb.commit()\n",
    "\n",
    "#top transaction\n",
    "\n",
    "mycursor.execute(\"select * from Top_transaction\")\n",
    "mydb.commit()\n",
    "table5 = mycursor.fetchall()\n",
    "\n",
    "Top_trans = pd.DataFrame(table5, columns=('States',\n",
    "                                            'Years',\n",
    "                                            'Quarter', \n",
    "                                            'Pincodes',\n",
    "                                            'Transaction_count', \n",
    "                                            'Transaction_amount'))\n",
    "Top_trans"
   ]
  },
  {
   "cell_type": "markdown",
   "metadata": {},
   "source": [
    "create a database and table (Top User)"
   ]
  },
  {
   "cell_type": "code",
   "execution_count": null,
   "metadata": {},
   "outputs": [
    {
     "ename": "",
     "evalue": "",
     "output_type": "error",
     "traceback": [
      "\u001b[1;31mFailed to start the Kernel. \n",
      "\u001b[1;31mUnable to start Kernel 'Python 3.12.2' due to a timeout waiting for the ports to get used. \n",
      "\u001b[1;31mView Jupyter <a href='command:jupyter.viewOutput'>log</a> for further details."
     ]
    }
   ],
   "source": [
    "# create a database and table (Top User)\n",
    "\n",
    "mycursor.execute('USE Phonepe_Project')\n",
    "mycursor.execute('''create table if not exists Top_user(States VARCHAR(255),\n",
    "                    Years INT(10),\n",
    "                    Quarter INT(10),\n",
    "                    Pincodes INT(10),\n",
    "                    RegisteredUser INT(50))''')\n",
    "\n",
    "mydb.commit()\n",
    "for index,row in Top_user.iterrows():\n",
    "    mycursor.execute('''Insert into top_user(States,Years,Quarter,Pincodes,RegisteredUser)\n",
    "                    VALUES(%s,%s,%s,%s,%s)''',\n",
    "                    (row['States'],\n",
    "                    row['Years'],\n",
    "                    row['Quarter'],\n",
    "                    row['Pincodes'],\n",
    "                    row['RegisteredUsers']))\n",
    "    \n",
    "mydb.commit()\n",
    "\n",
    "#Top_user df\n",
    "\n",
    "mycursor.execute(\"select * from Top_user\")\n",
    "mydb.commit()\n",
    "table6 = mycursor.fetchall()\n",
    "\n",
    "top_user = pd.DataFrame(table6, columns=('States',\n",
    "                                        'Years',\n",
    "                                        'Quarter',\n",
    "                                        'Pincodes',\n",
    "                                        'RegisteredUsers'))\n",
    "top_user"
   ]
  }
 ],
 "metadata": {
  "kernelspec": {
   "display_name": "Python 3",
   "language": "python",
   "name": "python3"
  },
  "language_info": {
   "codemirror_mode": {
    "name": "ipython",
    "version": 3
   },
   "file_extension": ".py",
   "mimetype": "text/x-python",
   "name": "python",
   "nbconvert_exporter": "python",
   "pygments_lexer": "ipython3",
   "version": "3.12.2"
  }
 },
 "nbformat": 4,
 "nbformat_minor": 2
}
